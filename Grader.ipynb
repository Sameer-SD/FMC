{
 "cells": [
  {
   "cell_type": "code",
   "execution_count": 20,
   "metadata": {},
   "outputs": [],
   "source": [
    "name_list = []\n",
    "Q1 = []\n",
    "Q2 = []\n",
    "score = []\n",
    "names = open(\"names.txt\", 'r').read().split('\\n')\n",
    "batch_list = open(\"batch.txt\", 'r').read().split('\\n')\n",
    "for name in names:\n",
    "    #Q1\n",
    "    label = open(\"Q1_Mushroom_Classification/label_mushroom.csv\", 'r')\n",
    "    contents = label.read().split('\\n')\n",
    "    try:\n",
    "        test = open(\"Submissions/{0}/sub1.txt\".format(name), 'r')\n",
    "        pred = test.read().split('\\n')\n",
    "        test.close()\n",
    "        sum = 0\n",
    "        for i in range(len(pred)-1):\n",
    "            if(pred[i].lower() == contents[i]):\n",
    "                sum += 1\n",
    "    except:\n",
    "        sum = 0\n",
    "    accuracy1 = sum/len(contents)\n",
    "    label.close()\n",
    "    \n",
    "    #Q2\n",
    "    label = open(\"Q2_Clothing_Classification/label_fashion.csv\", 'r')\n",
    "    contents = label.read().split('\\n')\n",
    "    try:\n",
    "        ans = [\"T-shirt/top\",\"Trouser\",\"Pullover\",\"Dress\",\"Coat\",\"Sandal\",\"Shirt\",\"Sneaker\",\"Bag\",\"Ankleboot\"]\n",
    "        ans2 = [\"top\",\"trouser\",\"pullover\",\"dress\",\"coat\",\"sandal\",\"shirt\",\"sneaker\",\"bag\",\"ankleboot\"]\n",
    "        test = open(\"submissions/{0}/sub2.txt\".format(name), 'r')\n",
    "        pred = test.read().split('\\n')\n",
    "        test.close()\n",
    "        sum = 0\n",
    "        for i in range(len(pred)-1):\n",
    "            chk = pred[i]\n",
    "            if(pred[i].replace(\" \",\"\") in ans):\n",
    "                chk = str(ans.index(pred[i].replace(\" \",\"\")))\n",
    "            elif(pred[i].replace(\" \",\"\") in ans2):\n",
    "                chk = str(ans2.index(pred[i].replace(\" \",\"\")))\n",
    "            if(chk == contents[i]):\n",
    "                sum += 1\n",
    "    except:\n",
    "        sum = 0\n",
    "    accuracy2 = sum/len(contents)\n",
    "    label.close()\n",
    "\n",
    "    name_list.append(name.replace('_', \" \"))\n",
    "    Q1.append(accuracy1)\n",
    "    Q2.append(accuracy2)\n",
    "    score.append(20*accuracy1 + 30*accuracy2)\n",
    "d = {\"Name\": name_list, \"Q1\": Q1, \"Q2\": Q2, \"Score\": score, \"Batch\": batch_list}"
   ]
  },
  {
   "cell_type": "code",
   "execution_count": 22,
   "metadata": {},
   "outputs": [],
   "source": [
    "import pandas as pd\n",
    "df = pd.DataFrame(d, columns = ['Name', 'Batch', 'Q1', 'Q2', 'Score'])\n",
    "df.to_csv(\"Result.csv\", index = False)"
   ]
  }
 ],
 "metadata": {
  "kernelspec": {
   "display_name": "Python 3",
   "language": "python",
   "name": "python3"
  },
  "language_info": {
   "codemirror_mode": {
    "name": "ipython",
    "version": 3
   },
   "file_extension": ".py",
   "mimetype": "text/x-python",
   "name": "python",
   "nbconvert_exporter": "python",
   "pygments_lexer": "ipython3",
   "version": "3.7.4"
  }
 },
 "nbformat": 4,
 "nbformat_minor": 2
}
