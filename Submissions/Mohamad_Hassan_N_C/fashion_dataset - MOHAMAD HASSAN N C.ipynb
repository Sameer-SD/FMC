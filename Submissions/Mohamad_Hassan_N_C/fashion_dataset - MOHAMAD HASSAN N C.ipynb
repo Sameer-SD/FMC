{
 "cells": [
  {
   "cell_type": "code",
   "execution_count": 1,
   "metadata": {
    "_cell_guid": "79c7e3d0-c299-4dcb-8224-4455121ee9b0",
    "_uuid": "d629ff2d2480ee46fbb7e2d37f6b5fab8052498a"
   },
   "outputs": [],
   "source": [
    "import pandas as pd\n",
    "data=pd.read_csv('C:/Users/MY DELL/Downloads/fashion-mnist_train.csv')"
   ]
  },
  {
   "cell_type": "code",
   "execution_count": 2,
   "metadata": {},
   "outputs": [],
   "source": [
    "data1=data.drop('label',axis=1)"
   ]
  },
  {
   "cell_type": "code",
   "execution_count": 3,
   "metadata": {},
   "outputs": [],
   "source": [
    "import numpy as np\n",
    "X=[]\n",
    "for i in range(60000):\n",
    "    X.append(np.array(data1.iloc[i].values))\n",
    "X=np.array(X)\n",
    "X=X/255.0"
   ]
  },
  {
   "cell_type": "code",
   "execution_count": 4,
   "metadata": {},
   "outputs": [],
   "source": [
    "y=[]\n",
    "for i in range(60000):\n",
    "    y.append(data['label'][i])\n",
    "y=np.array(y)    "
   ]
  },
  {
   "cell_type": "code",
   "execution_count": null,
   "metadata": {},
   "outputs": [],
   "source": [
    "import sklearn"
   ]
  },
  {
   "cell_type": "code",
   "execution_count": null,
   "metadata": {},
   "outputs": [],
   "source": [
    "from sklearn.model_selection import train_test_split"
   ]
  },
  {
   "cell_type": "code",
   "execution_count": null,
   "metadata": {},
   "outputs": [],
   "source": [
    "import tensorflow as tf"
   ]
  },
  {
   "cell_type": "code",
   "execution_count": 5,
   "metadata": {},
   "outputs": [],
   "source": [
    "import tensorflow as tf\n",
    "from tensorflow.keras.datasets import cifar10\n",
    "from tensorflow.keras.preprocessing.image import ImageDataGenerator\n",
    "from tensorflow.keras.models import Sequential\n",
    "from tensorflow.keras.layers import Dense, Dropout, Activation, Flatten\n",
    "from tensorflow.keras.layers import Conv2D, MaxPooling2D"
   ]
  },
  {
   "cell_type": "code",
   "execution_count": 6,
   "metadata": {},
   "outputs": [],
   "source": [
    "X=np.array(X).reshape(-1,28,28,1)"
   ]
  },
  {
   "cell_type": "code",
   "execution_count": 8,
   "metadata": {},
   "outputs": [
    {
     "name": "stdout",
     "output_type": "stream",
     "text": [
      "Train on 59400 samples, validate on 600 samples\n",
      "Epoch 1/10\n",
      "59400/59400 [==============================] - 10s 172us/sample - loss: 0.4307 - accuracy: 0.8419 - val_loss: 0.3115 - val_accuracy: 0.8867\n",
      "Epoch 2/10\n",
      "59400/59400 [==============================] - 10s 172us/sample - loss: 0.2851 - accuracy: 0.8941 - val_loss: 0.2852 - val_accuracy: 0.9000\n",
      "Epoch 3/10\n",
      "59400/59400 [==============================] - 10s 166us/sample - loss: 0.2383 - accuracy: 0.9109 - val_loss: 0.2530 - val_accuracy: 0.9067\n",
      "Epoch 4/10\n",
      "59400/59400 [==============================] - 10s 162us/sample - loss: 0.2034 - accuracy: 0.9241 - val_loss: 0.2460 - val_accuracy: 0.9133\n",
      "Epoch 5/10\n",
      "59400/59400 [==============================] - 10s 164us/sample - loss: 0.1799 - accuracy: 0.9320 - val_loss: 0.2876 - val_accuracy: 0.9167\n",
      "Epoch 6/10\n",
      "59400/59400 [==============================] - 10s 162us/sample - loss: 0.1559 - accuracy: 0.9412 - val_loss: 0.2998 - val_accuracy: 0.9133\n",
      "Epoch 7/10\n",
      "59400/59400 [==============================] - 10s 162us/sample - loss: 0.1369 - accuracy: 0.9483 - val_loss: 0.2868 - val_accuracy: 0.9233\n",
      "Epoch 8/10\n",
      "59400/59400 [==============================] - 10s 168us/sample - loss: 0.1197 - accuracy: 0.9553 - val_loss: 0.3209 - val_accuracy: 0.9033\n",
      "Epoch 9/10\n",
      "59400/59400 [==============================] - 10s 169us/sample - loss: 0.1065 - accuracy: 0.9604 - val_loss: 0.3317 - val_accuracy: 0.9200\n",
      "Epoch 10/10\n",
      "59400/59400 [==============================] - 10s 162us/sample - loss: 0.0973 - accuracy: 0.9636 - val_loss: 0.2944 - val_accuracy: 0.9233\n"
     ]
    },
    {
     "data": {
      "text/plain": [
       "<tensorflow.python.keras.callbacks.History at 0x7fb2d40bcdd0>"
      ]
     },
     "execution_count": 8,
     "metadata": {},
     "output_type": "execute_result"
    }
   ],
   "source": [
    "model = Sequential()\n",
    "model.add(Conv2D(256, (3, 3), input_shape=X.shape[1:]))\n",
    "model.add(Activation('relu'))\n",
    "model.add(MaxPooling2D(pool_size=(2, 2)))\n",
    "\n",
    "model.add(Conv2D(256, (3, 3)))\n",
    "model.add(Activation('relu'))\n",
    "model.add(MaxPooling2D(pool_size=(2, 2)))\n",
    "\n",
    "model.add(Flatten()) \n",
    "model.add(Dense(64))\n",
    "model.add(Activation('relu'))\n",
    "model.add(Dense(128))\n",
    "model.add(Activation('relu'))\n",
    "model.add(Dense(10))\n",
    "model.add(Activation('softmax'))\n",
    "model.compile(loss='sparse_categorical_crossentropy',\n",
    "              optimizer='adam',\n",
    "              metrics=['accuracy'])\n",
    "\n",
    "model.fit(X, y, batch_size=32, epochs=10, validation_split=0.01)"
   ]
  },
  {
   "cell_type": "code",
   "execution_count": null,
   "metadata": {},
   "outputs": [],
   "source": [
    "X.shape"
   ]
  },
  {
   "cell_type": "code",
   "execution_count": 9,
   "metadata": {},
   "outputs": [],
   "source": [
    "test=pd.read_csv('C:/Users/MY DELL/Downloads/Q2_Clothing_test.csv')"
   ]
  },
  {
   "cell_type": "code",
   "execution_count": 10,
   "metadata": {},
   "outputs": [],
   "source": [
    "import numpy as np\n",
    "Xtest=[]\n",
    "for i in range(1000):\n",
    "    Xtest.append(np.array(test.iloc[i].values))\n",
    "Xtest=np.array(Xtest)\n",
    "Xtest=Xtest/255.0"
   ]
  },
  {
   "cell_type": "code",
   "execution_count": null,
   "metadata": {},
   "outputs": [],
   "source": [
    "Xtest"
   ]
  },
  {
   "cell_type": "code",
   "execution_count": 11,
   "metadata": {},
   "outputs": [],
   "source": [
    "Xtest=np.array(Xtest).reshape(-1,28,28,1)\n",
    "predic=model.predict(Xtest)"
   ]
  },
  {
   "cell_type": "code",
   "execution_count": 12,
   "metadata": {},
   "outputs": [],
   "source": [
    "maxs=np.argmax(np.array(predic),axis=1)"
   ]
  },
  {
   "cell_type": "code",
   "execution_count": 13,
   "metadata": {},
   "outputs": [
    {
     "data": {
      "text/plain": [
       "array([7, 5, 3, 7, 0, 3, 6, 1, 2, 5, 2, 4, 8, 7, 3, 0, 7, 3, 1, 9, 4, 5,\n",
       "       8, 2, 7, 2, 0, 9, 8, 1, 8, 8, 4, 8, 7, 3, 2, 4, 2, 0, 6, 9, 4, 7,\n",
       "       6, 9, 9, 6, 7, 1, 0, 9, 5, 8, 5, 0, 3, 2, 0, 0, 6, 7, 7, 5, 3, 5,\n",
       "       2, 2, 4, 2, 5, 8, 3, 6, 3, 8, 1, 2, 6, 4, 2, 9, 5, 3, 7, 6, 2, 7,\n",
       "       4, 3, 4, 4, 6, 4, 4, 3, 6, 7, 8, 0, 5, 8, 9, 9, 5, 9, 4, 7, 8, 7,\n",
       "       5, 3, 0, 2, 0, 2, 7, 3, 0, 3, 0, 0, 4, 5, 4, 1, 6, 0, 4, 2, 8, 1,\n",
       "       9, 2, 7, 7, 8, 3, 2, 9, 8, 7, 5, 3, 8, 0, 9, 5, 9, 5, 6, 0, 2, 5,\n",
       "       3, 0, 2, 6, 7, 6, 5, 8, 4, 7, 5, 0, 3, 6, 0, 1, 5, 8, 6, 8, 4, 5,\n",
       "       8, 3, 6, 7, 5, 6, 3, 2, 3, 1, 4, 3, 3, 4, 1, 9, 0, 4, 9, 4, 8, 2,\n",
       "       6, 5, 8, 3, 7, 5, 2, 0, 4, 5, 8, 0, 6, 5, 1, 4, 4, 4, 2, 3, 1, 1,\n",
       "       0, 9, 7, 2, 0, 2, 3, 3, 7, 6, 3, 8, 7, 8, 9, 4, 9, 9, 8, 4, 3, 5,\n",
       "       9, 2, 6, 7, 9, 4, 8, 5, 6, 1, 8, 0, 4, 8, 3, 3, 9, 0, 3, 0, 7, 9,\n",
       "       5, 2, 8, 8, 4, 6, 6, 7, 4, 8, 4, 2, 1, 9, 6, 4, 2, 7, 0, 5, 9, 0,\n",
       "       7, 1, 2, 5, 1, 2, 8, 2, 3, 3, 9, 3, 3, 2, 6, 9, 0, 9, 1, 9, 4, 1,\n",
       "       1, 7, 8, 9, 4, 1, 8, 3, 7, 3, 8, 2, 3, 5, 2, 3, 6, 2, 6, 0, 2, 0,\n",
       "       6, 5, 9, 8, 0, 4, 4, 5, 6, 5, 9, 0, 0, 9, 7, 3, 5, 8, 7, 6, 4, 6,\n",
       "       2, 4, 5, 3, 6, 4, 2, 3, 7, 3, 9, 6, 4, 3, 1, 9, 6, 5, 3, 5, 4, 0,\n",
       "       9, 1, 5, 5, 6, 0, 2, 8, 4, 0, 7, 2, 0, 7, 1, 2, 1, 3, 7, 7, 3, 0,\n",
       "       5, 6, 9, 1, 5, 5, 5, 4, 0, 3, 0, 5, 4, 8, 6, 8, 1, 6, 9, 4, 1, 0,\n",
       "       6, 7, 6, 6, 8, 6, 1, 0, 7, 8, 4, 6, 1, 5, 9, 9, 4, 4, 9, 6, 9, 7,\n",
       "       0, 6, 6, 8, 6, 2, 7, 8, 3, 0, 9, 1, 1, 1, 7, 1, 2, 5, 9, 1, 8, 3,\n",
       "       9, 8, 1, 8, 6, 1, 9, 9, 6, 2, 3, 5, 1, 0, 3, 4, 1, 9, 8, 6, 0, 9,\n",
       "       6, 5, 9, 9, 4, 0, 2, 1, 6, 4, 1, 6, 5, 6, 7, 4, 7, 2, 2, 4, 1, 6,\n",
       "       7, 3, 3, 1, 1, 9, 5, 3, 9, 8, 4, 3, 1, 3, 9, 0, 2, 9, 6, 6, 8, 1,\n",
       "       9, 2, 0, 5, 1, 1, 3, 9, 9, 7, 8, 4, 1, 9, 5, 5, 2, 0, 0, 1, 7, 8,\n",
       "       2, 8, 2, 2, 8, 0, 5, 5, 9, 8, 4, 6, 9, 3, 1, 2, 4, 1, 9, 0, 6, 4,\n",
       "       5, 1, 2, 1, 7, 9, 2, 1, 4, 3, 0, 2, 4, 5, 0, 8, 6, 8, 7, 9, 2, 2,\n",
       "       6, 2, 7, 9, 2, 4, 9, 7, 7, 1, 2, 4, 4, 0, 0, 5, 7, 4, 3, 1, 5, 8,\n",
       "       3, 8, 4, 7, 2, 6, 1, 2, 4, 2, 4, 1, 3, 5, 4, 3, 5, 0, 3, 7, 3, 6,\n",
       "       7, 0, 0, 0, 7, 2, 8, 6, 9, 2, 9, 6, 7, 8, 0, 4, 4, 4, 5, 7, 3, 0,\n",
       "       7, 6, 4, 3, 5, 1, 5, 6, 1, 2, 2, 1, 2, 8, 3, 5, 3, 2, 1, 1, 0, 0,\n",
       "       5, 1, 0, 7, 7, 0, 3, 8, 1, 1, 7, 3, 8, 4, 3, 5, 5, 0, 0, 2, 6, 3,\n",
       "       3, 1, 6, 9, 1, 8, 5, 6, 6, 1, 1, 4, 4, 8, 8, 3, 6, 6, 0, 4, 3, 5,\n",
       "       4, 1, 5, 9, 7, 3, 5, 5, 8, 1, 6, 5, 1, 4, 6, 1, 9, 0, 2, 6, 5, 8,\n",
       "       0, 1, 4, 2, 4, 0, 9, 6, 6, 2, 2, 8, 6, 3, 9, 3, 8, 1, 0, 9, 9, 2,\n",
       "       9, 3, 0, 4, 0, 2, 9, 8, 5, 7, 3, 2, 0, 7, 3, 4, 4, 7, 1, 8, 9, 1,\n",
       "       5, 4, 3, 3, 2, 3, 2, 5, 6, 8, 2, 4, 4, 5, 7, 9, 5, 7, 9, 7, 6, 2,\n",
       "       1, 4, 4, 9, 6, 3, 5, 7, 2, 0, 3, 1, 2, 6, 1, 1, 3, 7, 3, 3, 5, 4,\n",
       "       7, 6, 3, 7, 7, 8, 7, 7, 7, 6, 9, 5, 6, 2, 7, 7, 8, 4, 2, 8, 6, 2,\n",
       "       5, 4, 6, 8, 5, 4, 9, 2, 4, 4, 0, 4, 9, 6, 5, 4, 6, 9, 3, 0, 1, 3,\n",
       "       6, 7, 8, 7, 4, 1, 7, 7, 2, 2, 8, 8, 5, 5, 6, 2, 9, 7, 3, 3, 6, 3,\n",
       "       8, 0, 2, 9, 5, 5, 2, 7, 0, 1, 1, 9, 1, 4, 0, 4, 3, 5, 0, 6, 2, 2,\n",
       "       4, 9, 5, 8, 6, 0, 1, 1, 1, 6, 7, 1, 2, 8, 1, 1, 8, 9, 8, 1, 8, 1,\n",
       "       3, 9, 5, 9, 0, 4, 5, 7, 4, 2, 0, 8, 2, 8, 2, 4, 4, 2, 1, 6, 2, 6,\n",
       "       4, 2, 6, 2, 4, 6, 9, 1, 4, 9, 9, 9, 7, 0, 7, 4, 6, 0, 3, 3, 4, 1,\n",
       "       3, 5, 1, 3, 9, 9, 3, 8, 4, 3])"
      ]
     },
     "execution_count": 13,
     "metadata": {},
     "output_type": "execute_result"
    }
   ],
   "source": [
    "maxs"
   ]
  },
  {
   "cell_type": "code",
   "execution_count": 14,
   "metadata": {},
   "outputs": [
    {
     "data": {
      "text/plain": [
       "1000"
      ]
     },
     "execution_count": 14,
     "metadata": {},
     "output_type": "execute_result"
    }
   ],
   "source": [
    "len(maxs)"
   ]
  },
  {
   "cell_type": "code",
   "execution_count": 15,
   "metadata": {},
   "outputs": [],
   "source": [
    "maxs=np.array(maxs)\n",
    "file2 = open(\"news.txt\",\"w\") \n",
    "for i in range(1000):\n",
    "    string=str(maxs[i])\n",
    "    file2.write(string)\n",
    "    file2.write(\" \\n\")\n",
    "file2.close()    "
   ]
  },
  {
   "cell_type": "code",
   "execution_count": null,
   "metadata": {},
   "outputs": [],
   "source": [
    "maxs[1]"
   ]
  },
  {
   "cell_type": "code",
   "execution_count": null,
   "metadata": {},
   "outputs": [],
   "source": [
    "import numpy as np\n",
    "import csv\n",
    "import matplotlib.pyplot as plt\n",
    "import csv\n",
    "with open('C:/Users/MY DELL/Downloads/Q2_Clothing_test.csv', 'r') as csv_file:\n",
    "    for data in csv.reader(csv_file):\n",
    "        pixels = data[0:]\n",
    "\n",
    "        pixels = np.array(pixels,dtype='float32')\n",
    "\n",
    "        pixels = pixels.reshape((28, 28))\n",
    "\n",
    "        plt.imshow(pixels, cmap='gray')\n",
    "        plt.show()\n"
   ]
  },
  {
   "cell_type": "code",
   "execution_count": null,
   "metadata": {},
   "outputs": [],
   "source": [
    "import matplotlib.pyplot as plt\n",
    "img = data2[12].reshape(28,28)\n",
    "plt.imshow(img, cmap=\"gray\")"
   ]
  },
  {
   "cell_type": "code",
   "execution_count": null,
   "metadata": {},
   "outputs": [],
   "source": [
    "data2 = np.matrix(test)"
   ]
  },
  {
   "cell_type": "code",
   "execution_count": null,
   "metadata": {},
   "outputs": [],
   "source": []
  }
 ],
 "metadata": {
  "kernelspec": {
   "display_name": "Python 3",
   "language": "python",
   "name": "python3"
  },
  "language_info": {
   "codemirror_mode": {
    "name": "ipython",
    "version": 3
   },
   "file_extension": ".py",
   "mimetype": "text/x-python",
   "name": "python",
   "nbconvert_exporter": "python",
   "pygments_lexer": "ipython3",
   "version": "3.7.4"
  }
 },
 "nbformat": 4,
 "nbformat_minor": 4
}
