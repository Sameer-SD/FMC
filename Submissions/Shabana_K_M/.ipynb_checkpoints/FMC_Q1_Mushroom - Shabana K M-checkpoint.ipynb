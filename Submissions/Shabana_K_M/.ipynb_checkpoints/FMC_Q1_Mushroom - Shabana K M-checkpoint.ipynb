{
 "cells": [
  {
   "cell_type": "code",
   "execution_count": 0,
   "metadata": {
    "colab": {},
    "colab_type": "code",
    "id": "6ff2vchuNqv6"
   },
   "outputs": [],
   "source": [
    "import numpy as np\n",
    "import pandas as pd\n",
    "from sklearn.preprocessing import OneHotEncoder"
   ]
  },
  {
   "cell_type": "code",
   "execution_count": 0,
   "metadata": {
    "colab": {},
    "colab_type": "code",
    "id": "2zb5bZZBO3Tw"
   },
   "outputs": [],
   "source": [
    "train = pd.read_csv(\"/content/drive/My Drive/Colab Notebooks/Data/FMCtrain.csv\")\n",
    "y = np.array(train['class'])\n",
    "X = np.array(train.drop(columns=['class']))\n",
    "\n",
    "enc = OneHotEncoder()\n",
    "enc.fit(X)\n",
    "X = enc.transform(X).toarray()\n",
    "\n",
    "from sklearn.model_selection import train_test_split\n",
    "X_train, X_test, y_train, y_test = train_test_split(X, y, test_size=0.20, random_state=43)"
   ]
  },
  {
   "cell_type": "code",
   "execution_count": 18,
   "metadata": {
    "colab": {
     "base_uri": "https://localhost:8080/",
     "height": 403
    },
    "colab_type": "code",
    "id": "ggHuDivqsw-E",
    "outputId": "987c7994-7da0-4efb-d522-ef679cb4e165"
   },
   "outputs": [
    {
     "data": {
      "text/plain": [
       "[array(['b', 'c', 'f', 'k', 's', 'x'], dtype=object),\n",
       " array(['f', 'g', 's', 'y'], dtype=object),\n",
       " array(['b', 'c', 'e', 'g', 'n', 'p', 'r', 'u', 'w', 'y'], dtype=object),\n",
       " array(['f', 't'], dtype=object),\n",
       " array(['a', 'c', 'f', 'l', 'm', 'n', 'p', 's', 'y'], dtype=object),\n",
       " array(['a', 'f'], dtype=object),\n",
       " array(['c', 'w'], dtype=object),\n",
       " array(['b', 'n'], dtype=object),\n",
       " array(['b', 'e', 'g', 'h', 'k', 'n', 'o', 'p', 'r', 'u', 'w', 'y'],\n",
       "       dtype=object),\n",
       " array(['e', 't'], dtype=object),\n",
       " array(['?', 'b', 'c', 'e', 'r'], dtype=object),\n",
       " array(['f', 'k', 's', 'y'], dtype=object),\n",
       " array(['f', 'k', 's', 'y'], dtype=object),\n",
       " array(['b', 'c', 'e', 'g', 'n', 'o', 'p', 'w', 'y'], dtype=object),\n",
       " array(['b', 'c', 'e', 'g', 'n', 'o', 'p', 'w', 'y'], dtype=object),\n",
       " array(['p'], dtype=object),\n",
       " array(['n', 'o', 'w', 'y'], dtype=object),\n",
       " array(['n', 'o', 't'], dtype=object),\n",
       " array(['e', 'f', 'l', 'n', 'p'], dtype=object),\n",
       " array(['b', 'h', 'k', 'n', 'o', 'r', 'u', 'w', 'y'], dtype=object),\n",
       " array(['a', 'c', 'n', 's', 'v', 'y'], dtype=object),\n",
       " array(['d', 'g', 'l', 'm', 'p', 'u', 'w'], dtype=object)]"
      ]
     },
     "execution_count": 18,
     "metadata": {
      "tags": []
     },
     "output_type": "execute_result"
    }
   ],
   "source": [
    "enc.categories_"
   ]
  },
  {
   "cell_type": "markdown",
   "metadata": {
    "colab_type": "text",
    "id": "B6M9tTKPSfqX"
   },
   "source": [
    "###**Random Forest**"
   ]
  },
  {
   "cell_type": "code",
   "execution_count": 40,
   "metadata": {
    "colab": {
     "base_uri": "https://localhost:8080/",
     "height": 50
    },
    "colab_type": "code",
    "id": "R0KF4c8HPtVb",
    "outputId": "ad01519e-a890-405a-fe27-06defbd10f95"
   },
   "outputs": [
    {
     "name": "stdout",
     "output_type": "stream",
     "text": [
      "[1. 1. 1. 1. 1. 1. 1. 1. 1. 1.]\n",
      "Accuracy on test dataset: 1.0\n"
     ]
    }
   ],
   "source": [
    "from sklearn.ensemble import RandomForestClassifier\n",
    "from sklearn.model_selection import cross_val_score\n",
    "from sklearn import metrics\n",
    "\n",
    "rfModel = RandomForestClassifier(20,max_depth=7, random_state=1)\n",
    "rfModel.fit(X_train, y_train)\n",
    "scores = cross_val_score(rfModel, X_train, y_train, cv=10)\n",
    "print(scores)\n",
    "y_pred = rfModel.predict(X_test)\n",
    "print(\"Accuracy on test dataset:\",metrics.accuracy_score(y_test, y_pred))"
   ]
  },
  {
   "cell_type": "markdown",
   "metadata": {
    "colab_type": "text",
    "id": "WbuT8aK-uFp1"
   },
   "source": [
    "###**Adaboost**"
   ]
  },
  {
   "cell_type": "code",
   "execution_count": 43,
   "metadata": {
    "colab": {
     "base_uri": "https://localhost:8080/",
     "height": 50
    },
    "colab_type": "code",
    "id": "cvA-m5qySZCH",
    "outputId": "491fe87d-8ba9-4bfa-9d33-594116d3fb57"
   },
   "outputs": [
    {
     "name": "stdout",
     "output_type": "stream",
     "text": [
      "[1. 1. 1. 1. 1. 1. 1. 1. 1. 1.]\n",
      "Accuracy: 1.0\n"
     ]
    }
   ],
   "source": [
    "from sklearn.ensemble import AdaBoostClassifier\n",
    "\n",
    "abModel = AdaBoostClassifier(n_estimators=20, random_state=0)\n",
    "abModel.fit(X_train, y_train)\n",
    "scores = cross_val_score(abModel, X_train, y_train, cv=10)\n",
    "print(scores)\n",
    "y_pred = abModel.predict(X_test)\n",
    "print(\"Accuracy:\",metrics.accuracy_score(y_test, y_pred))"
   ]
  },
  {
   "cell_type": "markdown",
   "metadata": {
    "colab_type": "text",
    "id": "RoC6CznDxvo7"
   },
   "source": [
    "###**Testing**"
   ]
  },
  {
   "cell_type": "code",
   "execution_count": 0,
   "metadata": {
    "colab": {},
    "colab_type": "code",
    "id": "dEojR-T0xjaM"
   },
   "outputs": [],
   "source": [
    "test = pd.read_csv(\"/content/drive/My Drive/Colab Notebooks/Data/Q1_Mushroom_test.csv\")"
   ]
  },
  {
   "cell_type": "code",
   "execution_count": 0,
   "metadata": {
    "colab": {},
    "colab_type": "code",
    "id": "PyHjvhOmyDRJ"
   },
   "outputs": [],
   "source": [
    "testX = enc.transform(test).toarray()"
   ]
  },
  {
   "cell_type": "code",
   "execution_count": 0,
   "metadata": {
    "colab": {},
    "colab_type": "code",
    "id": "-mukG8WyyE4c"
   },
   "outputs": [],
   "source": [
    "predRF = rfModel.predict(testX)\n",
    "predAB = abModel.predict(testX)"
   ]
  },
  {
   "cell_type": "code",
   "execution_count": 63,
   "metadata": {
    "colab": {
     "base_uri": "https://localhost:8080/",
     "height": 34
    },
    "colab_type": "code",
    "id": "iPu0HRSZyd46",
    "outputId": "4de63ea5-41e4-4860-951c-b7cf454a7200"
   },
   "outputs": [
    {
     "name": "stdout",
     "output_type": "stream",
     "text": [
      "Agreement of predictions from two models: 1.0\n"
     ]
    }
   ],
   "source": [
    "print(\"Agreement of predictions from two models:\",metrics.accuracy_score(predRF,predAB))"
   ]
  },
  {
   "cell_type": "code",
   "execution_count": 0,
   "metadata": {
    "colab": {},
    "colab_type": "code",
    "id": "yg31vpFvygqg"
   },
   "outputs": [],
   "source": [
    "np.savetxt('Q1_Mushroom_Pred.txt',predRF,fmt='%s')"
   ]
  }
 ],
 "metadata": {
  "colab": {
   "name": "FMC_Q1_Mushroom.ipynb",
   "provenance": []
  },
  "kernelspec": {
   "display_name": "Python 3",
   "language": "python",
   "name": "python3"
  },
  "language_info": {
   "codemirror_mode": {
    "name": "ipython",
    "version": 3
   },
   "file_extension": ".py",
   "mimetype": "text/x-python",
   "name": "python",
   "nbconvert_exporter": "python",
   "pygments_lexer": "ipython3",
   "version": "3.7.4"
  }
 },
 "nbformat": 4,
 "nbformat_minor": 1
}
