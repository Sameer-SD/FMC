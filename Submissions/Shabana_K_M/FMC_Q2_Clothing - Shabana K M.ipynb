{
  "nbformat": 4,
  "nbformat_minor": 0,
  "metadata": {
    "colab": {
      "name": "FMC_Q2_Clothing.ipynb",
      "provenance": []
    },
    "kernelspec": {
      "name": "python3",
      "display_name": "Python 3"
    }
  },
  "cells": [
    {
      "cell_type": "markdown",
      "metadata": {
        "id": "m_bfqT-JhA3U",
        "colab_type": "text"
      },
      "source": [
        "**Reference:** https://www.datacamp.com/community/tutorials/convolutional-neural-networks-python"
      ]
    },
    {
      "cell_type": "code",
      "metadata": {
        "id": "zwwQJXPk2I4T",
        "colab_type": "code",
        "colab": {
          "base_uri": "https://localhost:8080/",
          "height": 34
        },
        "outputId": "84a34c63-bbdc-4ab1-c002-b5d46ed9c25c"
      },
      "source": [
        "import numpy as np\n",
        "import pandas as pd\n",
        "import matplotlib.pyplot as plt\n",
        "from keras.utils import to_categorical"
      ],
      "execution_count": 21,
      "outputs": [
        {
          "output_type": "stream",
          "text": [
            "Using TensorFlow backend.\n"
          ],
          "name": "stderr"
        }
      ]
    },
    {
      "cell_type": "code",
      "metadata": {
        "id": "ywalAvM43v_F",
        "colab_type": "code",
        "colab": {}
      },
      "source": [
        "train = pd.read_csv(\"/content/drive/My Drive/Colab Notebooks/Data/fashion-mnist_train.zip\")"
      ],
      "execution_count": 0,
      "outputs": []
    },
    {
      "cell_type": "code",
      "metadata": {
        "id": "F1TDfq-Y4FvB",
        "colab_type": "code",
        "colab": {}
      },
      "source": [
        "y = train[\"label\"]\n",
        "X = train.drop(columns=[\"label\"]).to_numpy()\n",
        "X = X.reshape(-1,28,28,1)\n",
        "X = X.astype('float32')\n",
        "X = X/255.\n",
        "\n",
        "y_one_hot = to_categorical(y)"
      ],
      "execution_count": 0,
      "outputs": []
    },
    {
      "cell_type": "code",
      "metadata": {
        "id": "XwkbiNEv4K04",
        "colab_type": "code",
        "colab": {}
      },
      "source": [
        "from sklearn.model_selection import train_test_split\n",
        "X_train, X_test, y_train, y_test = train_test_split(X, y_one_hot, test_size=0.20, random_state=43)"
      ],
      "execution_count": 0,
      "outputs": []
    },
    {
      "cell_type": "code",
      "metadata": {
        "id": "aZw58KjXZliS",
        "colab_type": "code",
        "colab": {}
      },
      "source": [
        "import keras\n",
        "from keras.models import Sequential,Input,Model\n",
        "from keras.layers import Dense, Dropout, Flatten\n",
        "from keras.layers import Conv2D, MaxPooling2D\n",
        "from keras.layers.normalization import BatchNormalization\n",
        "from keras.layers.advanced_activations import LeakyReLU\n",
        "\n",
        "batch_size = 64\n",
        "epochs = 20\n",
        "num_classes = 10"
      ],
      "execution_count": 0,
      "outputs": []
    },
    {
      "cell_type": "code",
      "metadata": {
        "id": "oR-LkU5kbjWt",
        "colab_type": "code",
        "colab": {}
      },
      "source": [
        "model = Sequential()\n",
        "model.add(Conv2D(32, kernel_size=(3, 3),activation='linear',padding='same',input_shape=(28,28,1)))\n",
        "model.add(LeakyReLU(alpha=0.1))\n",
        "model.add(MaxPooling2D((2, 2),padding='same'))\n",
        "model.add(Dropout(0.25))\n",
        "model.add(Conv2D(64, (3, 3), activation='linear',padding='same'))\n",
        "model.add(LeakyReLU(alpha=0.1))\n",
        "model.add(MaxPooling2D(pool_size=(2, 2),padding='same'))\n",
        "model.add(Dropout(0.25))\n",
        "model.add(Conv2D(128, (3, 3), activation='linear',padding='same'))\n",
        "model.add(LeakyReLU(alpha=0.1))                  \n",
        "model.add(MaxPooling2D(pool_size=(2, 2),padding='same'))\n",
        "model.add(Dropout(0.4))\n",
        "model.add(Flatten())\n",
        "model.add(Dense(128, activation='linear'))\n",
        "model.add(LeakyReLU(alpha=0.1))           \n",
        "model.add(Dropout(0.3))\n",
        "model.add(Dense(num_classes, activation='softmax'))"
      ],
      "execution_count": 0,
      "outputs": []
    },
    {
      "cell_type": "code",
      "metadata": {
        "id": "yvZaa3GOb8w9",
        "colab_type": "code",
        "colab": {
          "base_uri": "https://localhost:8080/",
          "height": 722
        },
        "outputId": "e995c514-5032-4d5f-a699-090189c44ecc"
      },
      "source": [
        "model.compile(loss=keras.losses.categorical_crossentropy, optimizer=keras.optimizers.Adam(),metrics=['accuracy'])\n",
        "model.summary()"
      ],
      "execution_count": 57,
      "outputs": [
        {
          "output_type": "stream",
          "text": [
            "Model: \"sequential_4\"\n",
            "_________________________________________________________________\n",
            "Layer (type)                 Output Shape              Param #   \n",
            "=================================================================\n",
            "conv2d_10 (Conv2D)           (None, 28, 28, 32)        320       \n",
            "_________________________________________________________________\n",
            "leaky_re_lu_13 (LeakyReLU)   (None, 28, 28, 32)        0         \n",
            "_________________________________________________________________\n",
            "max_pooling2d_10 (MaxPooling (None, 14, 14, 32)        0         \n",
            "_________________________________________________________________\n",
            "dropout_9 (Dropout)          (None, 14, 14, 32)        0         \n",
            "_________________________________________________________________\n",
            "conv2d_11 (Conv2D)           (None, 14, 14, 64)        18496     \n",
            "_________________________________________________________________\n",
            "leaky_re_lu_14 (LeakyReLU)   (None, 14, 14, 64)        0         \n",
            "_________________________________________________________________\n",
            "max_pooling2d_11 (MaxPooling (None, 7, 7, 64)          0         \n",
            "_________________________________________________________________\n",
            "dropout_10 (Dropout)         (None, 7, 7, 64)          0         \n",
            "_________________________________________________________________\n",
            "conv2d_12 (Conv2D)           (None, 7, 7, 128)         73856     \n",
            "_________________________________________________________________\n",
            "leaky_re_lu_15 (LeakyReLU)   (None, 7, 7, 128)         0         \n",
            "_________________________________________________________________\n",
            "max_pooling2d_12 (MaxPooling (None, 4, 4, 128)         0         \n",
            "_________________________________________________________________\n",
            "dropout_11 (Dropout)         (None, 4, 4, 128)         0         \n",
            "_________________________________________________________________\n",
            "flatten_4 (Flatten)          (None, 2048)              0         \n",
            "_________________________________________________________________\n",
            "dense_5 (Dense)              (None, 128)               262272    \n",
            "_________________________________________________________________\n",
            "leaky_re_lu_16 (LeakyReLU)   (None, 128)               0         \n",
            "_________________________________________________________________\n",
            "dropout_12 (Dropout)         (None, 128)               0         \n",
            "_________________________________________________________________\n",
            "dense_6 (Dense)              (None, 10)                1290      \n",
            "=================================================================\n",
            "Total params: 356,234\n",
            "Trainable params: 356,234\n",
            "Non-trainable params: 0\n",
            "_________________________________________________________________\n"
          ],
          "name": "stdout"
        }
      ]
    },
    {
      "cell_type": "code",
      "metadata": {
        "id": "zJucjhsycGqP",
        "colab_type": "code",
        "colab": {
          "base_uri": "https://localhost:8080/",
          "height": 706
        },
        "outputId": "3f02a7a8-b905-4a9c-d442-f757632ebd87"
      },
      "source": [
        "train = model.fit(X_train, y_train, batch_size=batch_size,epochs=epochs,verbose=1,validation_data=(X_test, y_test))"
      ],
      "execution_count": 58,
      "outputs": [
        {
          "output_type": "stream",
          "text": [
            "Train on 48000 samples, validate on 12000 samples\n",
            "Epoch 1/20\n",
            "48000/48000 [==============================] - 94s 2ms/step - loss: 0.6009 - accuracy: 0.7777 - val_loss: 0.3725 - val_accuracy: 0.8625\n",
            "Epoch 2/20\n",
            "48000/48000 [==============================] - 93s 2ms/step - loss: 0.3810 - accuracy: 0.8593 - val_loss: 0.3099 - val_accuracy: 0.8851\n",
            "Epoch 3/20\n",
            "48000/48000 [==============================] - 93s 2ms/step - loss: 0.3303 - accuracy: 0.8780 - val_loss: 0.2687 - val_accuracy: 0.8997\n",
            "Epoch 4/20\n",
            "48000/48000 [==============================] - 93s 2ms/step - loss: 0.3044 - accuracy: 0.8878 - val_loss: 0.2502 - val_accuracy: 0.9083\n",
            "Epoch 5/20\n",
            "48000/48000 [==============================] - 93s 2ms/step - loss: 0.2880 - accuracy: 0.8933 - val_loss: 0.2337 - val_accuracy: 0.9149\n",
            "Epoch 6/20\n",
            "48000/48000 [==============================] - 93s 2ms/step - loss: 0.2726 - accuracy: 0.8994 - val_loss: 0.2414 - val_accuracy: 0.9085\n",
            "Epoch 7/20\n",
            "48000/48000 [==============================] - 97s 2ms/step - loss: 0.2572 - accuracy: 0.9050 - val_loss: 0.2365 - val_accuracy: 0.9126\n",
            "Epoch 8/20\n",
            "48000/48000 [==============================] - 93s 2ms/step - loss: 0.2531 - accuracy: 0.9057 - val_loss: 0.2274 - val_accuracy: 0.9140\n",
            "Epoch 9/20\n",
            "48000/48000 [==============================] - 93s 2ms/step - loss: 0.2437 - accuracy: 0.9087 - val_loss: 0.2103 - val_accuracy: 0.9214\n",
            "Epoch 10/20\n",
            "48000/48000 [==============================] - 93s 2ms/step - loss: 0.2410 - accuracy: 0.9099 - val_loss: 0.2365 - val_accuracy: 0.9083\n",
            "Epoch 11/20\n",
            "48000/48000 [==============================] - 93s 2ms/step - loss: 0.2299 - accuracy: 0.9143 - val_loss: 0.2088 - val_accuracy: 0.9239\n",
            "Epoch 12/20\n",
            "48000/48000 [==============================] - 93s 2ms/step - loss: 0.2281 - accuracy: 0.9138 - val_loss: 0.2106 - val_accuracy: 0.9227\n",
            "Epoch 13/20\n",
            "48000/48000 [==============================] - 94s 2ms/step - loss: 0.2218 - accuracy: 0.9165 - val_loss: 0.2049 - val_accuracy: 0.9223\n",
            "Epoch 14/20\n",
            "48000/48000 [==============================] - 96s 2ms/step - loss: 0.2209 - accuracy: 0.9158 - val_loss: 0.2065 - val_accuracy: 0.9243\n",
            "Epoch 15/20\n",
            "48000/48000 [==============================] - 93s 2ms/step - loss: 0.2169 - accuracy: 0.9179 - val_loss: 0.2075 - val_accuracy: 0.9232\n",
            "Epoch 16/20\n",
            "48000/48000 [==============================] - 93s 2ms/step - loss: 0.2098 - accuracy: 0.9206 - val_loss: 0.2037 - val_accuracy: 0.9243\n",
            "Epoch 17/20\n",
            "48000/48000 [==============================] - 93s 2ms/step - loss: 0.2100 - accuracy: 0.9215 - val_loss: 0.2151 - val_accuracy: 0.9214\n",
            "Epoch 18/20\n",
            "48000/48000 [==============================] - 93s 2ms/step - loss: 0.2053 - accuracy: 0.9214 - val_loss: 0.2047 - val_accuracy: 0.9278\n",
            "Epoch 19/20\n",
            "48000/48000 [==============================] - 93s 2ms/step - loss: 0.2018 - accuracy: 0.9235 - val_loss: 0.2053 - val_accuracy: 0.9260\n",
            "Epoch 20/20\n",
            "48000/48000 [==============================] - 97s 2ms/step - loss: 0.1966 - accuracy: 0.9271 - val_loss: 0.1956 - val_accuracy: 0.9297\n"
          ],
          "name": "stdout"
        }
      ]
    },
    {
      "cell_type": "code",
      "metadata": {
        "id": "Cs5KpRCBcd5k",
        "colab_type": "code",
        "colab": {
          "base_uri": "https://localhost:8080/",
          "height": 50
        },
        "outputId": "e3c483bb-1489-41ec-a42e-1b160e3be546"
      },
      "source": [
        "test_eval = model.evaluate(X_test, y_test, verbose=0)\n",
        "print('Test loss:', test_eval[0])\n",
        "print('Test accuracy:', test_eval[1])"
      ],
      "execution_count": 59,
      "outputs": [
        {
          "output_type": "stream",
          "text": [
            "Test loss: 0.19563333183526993\n",
            "Test accuracy: 0.9296666383743286\n"
          ],
          "name": "stdout"
        }
      ]
    },
    {
      "cell_type": "markdown",
      "metadata": {
        "id": "898unlSDeyAT",
        "colab_type": "text"
      },
      "source": [
        "###**Testing**"
      ]
    },
    {
      "cell_type": "code",
      "metadata": {
        "id": "Fu7wlbCXe2Yv",
        "colab_type": "code",
        "colab": {}
      },
      "source": [
        "test = pd.read_csv(\"/content/drive/My Drive/Colab Notebooks/Data/Q2_Clothing_test.csv\")\n",
        "Xtest = test.to_numpy().reshape(-1,28,28,1)\n",
        "Xtest = Xtest.astype('float32')\n",
        "Xtest = Xtest/255."
      ],
      "execution_count": 0,
      "outputs": []
    },
    {
      "cell_type": "code",
      "metadata": {
        "id": "sizdL-CQfK9m",
        "colab_type": "code",
        "colab": {}
      },
      "source": [
        "yPred = model.predict(Xtest)\n",
        "yPred = np.argmax(np.round(yPred),axis=1)"
      ],
      "execution_count": 0,
      "outputs": []
    },
    {
      "cell_type": "code",
      "metadata": {
        "id": "LHfY0oVNgnqF",
        "colab_type": "code",
        "colab": {}
      },
      "source": [
        "np.savetxt('Q2_Clothing_Pred.txt',yPred,fmt='%s')"
      ],
      "execution_count": 0,
      "outputs": []
    }
  ]
}